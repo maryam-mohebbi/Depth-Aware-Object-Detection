{
 "cells": [
  {
   "cell_type": "code",
   "execution_count": 1,
   "metadata": {},
   "outputs": [],
   "source": [
    "from da_od.config import test_img\n",
    "from da_od.model import DepthAnythingEstimator, MiDaSEstimator, MonocularDepthEstimator\n",
    "\n",
    "image_path = test_img / \"img-00019.jpg\""
   ]
  },
  {
   "cell_type": "code",
   "execution_count": null,
   "metadata": {},
   "outputs": [],
   "source": [
    "DepthAnything_estimator = DepthAnythingEstimator(image_path, encoder=\"vits\")\n",
    "DepthAnything_colored, DepthAnything_raw = DepthAnything_estimator.process_image()"
   ]
  },
  {
   "cell_type": "code",
   "execution_count": null,
   "metadata": {},
   "outputs": [],
   "source": [
    "MiDaS_estimator = MiDaSEstimator(image_path, model_type=\"DPT_Large\")\n",
    "MiDaS_colored, MiDaS_raw = MiDaS_estimator.process_image()"
   ]
  },
  {
   "cell_type": "code",
   "execution_count": null,
   "metadata": {},
   "outputs": [],
   "source": [
    "Monocular_estimator = MonocularDepthEstimator(image_path, model_name=\"mono_640x192\")\n",
    "Monocular_colored, Monocular_raw = Monocular_estimator.process_image()"
   ]
  }
 ],
 "metadata": {
  "kernelspec": {
   "display_name": "depth-aware-object-detection-zcMtcJV--py3.10",
   "language": "python",
   "name": "python3"
  },
  "language_info": {
   "codemirror_mode": {
    "name": "ipython",
    "version": 3
   },
   "file_extension": ".py",
   "mimetype": "text/x-python",
   "name": "python",
   "nbconvert_exporter": "python",
   "pygments_lexer": "ipython3",
   "version": "3.10.10"
  }
 },
 "nbformat": 4,
 "nbformat_minor": 2
}
