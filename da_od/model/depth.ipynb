{
 "cells": [
  {
   "cell_type": "code",
   "execution_count": 1,
   "metadata": {},
   "outputs": [
    {
     "name": "stderr",
     "output_type": "stream",
     "text": [
      "xFormers not available\n",
      "xFormers not available\n"
     ]
    }
   ],
   "source": [
    "from da_od.config import test_img\n",
    "from da_od.model import DepthAnythingEstimator, MiDaSEstimator\n",
    "\n",
    "image_path = test_img / \"img-00019.jpg\"\n",
    "\n",
    "depth_estimator = DepthAnythingEstimator(image_path, encoder=\"vits\")\n",
    "depth_img_colored, depth_raw = depth_estimator.process_image()"
   ]
  },
  {
   "cell_type": "code",
   "execution_count": 2,
   "metadata": {},
   "outputs": [],
   "source": [
    "DepthAnything_estimator = DepthAnythingEstimator(image_path, encoder=\"vits\")\n",
    "DepthAnything_colored, DepthAnything_raw = DepthAnything_estimator.process_image()"
   ]
  },
  {
   "cell_type": "code",
   "execution_count": 3,
   "metadata": {},
   "outputs": [
    {
     "name": "stderr",
     "output_type": "stream",
     "text": [
      "Using cache found in /Users/maryam/.cache/torch/hub/intel-isl_MiDaS_master\n"
     ]
    }
   ],
   "source": [
    "MiDaS_estimator = MiDaSEstimator(image_path, model_type=\"DPT_Large\")\n",
    "MiDaS_colored, MiDaS_raw = MiDaS_estimator.process_image()"
   ]
  }
 ],
 "metadata": {
  "kernelspec": {
   "display_name": "depth-aware-object-detection-zcMtcJV--py3.10",
   "language": "python",
   "name": "python3"
  },
  "language_info": {
   "codemirror_mode": {
    "name": "ipython",
    "version": 3
   },
   "file_extension": ".py",
   "mimetype": "text/x-python",
   "name": "python",
   "nbconvert_exporter": "python",
   "pygments_lexer": "ipython3",
   "version": "3.10.10"
  }
 },
 "nbformat": 4,
 "nbformat_minor": 2
}
